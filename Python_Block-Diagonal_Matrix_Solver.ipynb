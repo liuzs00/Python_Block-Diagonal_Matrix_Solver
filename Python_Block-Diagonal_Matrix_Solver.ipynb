{
 "cells": [
  {
   "cell_type": "markdown",
   "id": "b885cfd9",
   "metadata": {},
   "source": [
    "## Solve Block-Diagonal Matrix\n",
    "\n"
   ]
  },
  {
   "cell_type": "markdown",
   "id": "ecc44dda",
   "metadata": {},
   "source": [
    "\n",
    "\n",
    "A **block-diagonal matrix** is a square matrix with square blocks of non-zero values along the diagonal, and zeros elsewhere. For example, the following matrix A is an example of a block-diagonal matrix of size $7\\times 7$, with 3 diagonal blocks of size $2\\times 2$, $3\\times 3$, and $2 \\times 2$ respectively:\n",
    "\n",
    "$$\n",
    "A =\n",
    "\\begin{pmatrix}\n",
    "7 & 5 & 0 & 0 & 0 & 0 & 0 \\\\\n",
    "4 & 6 & 0 & 0 & 0 & 0 & 0 \\\\\n",
    "0 & 0 & -9 & 5 & 4 & 0 & 0 \\\\\n",
    "0 & 0 & 3 & 2 & 6 & 0 & 0 \\\\\n",
    "0 & 0 & 1 & 3 & 2 & 0 & 0 \\\\\n",
    "0 & 0 & 0 & 0 & 0 & 1 & -7 \\\\\n",
    "0 & 0 & 0 & 0 & 0 & 5 & 9\n",
    "\\end{pmatrix}.\n",
    "$$\n"
   ]
  },
  {
   "cell_type": "markdown",
   "id": "c76fa112",
   "metadata": {},
   "source": [
    "The code below creates a block-diagonal matrix with random non-zero values between 0 and 1, where all blocks have identical size."
   ]
  },
  {
   "cell_type": "code",
   "execution_count": 1,
   "id": "6aa4954a",
   "metadata": {},
   "outputs": [
    {
     "name": "stdout",
     "output_type": "stream",
     "text": [
      "[[0.794 0.253 0.    0.    0.    0.    0.    0.   ]\n",
      " [0.539 0.376 0.    0.    0.    0.    0.    0.   ]\n",
      " [0.397 0.659 0.    0.    0.    0.    0.    0.   ]\n",
      " [0.    0.    0.569 0.861 0.    0.    0.    0.   ]\n",
      " [0.    0.    0.365 0.476 0.    0.    0.    0.   ]\n",
      " [0.    0.    0.281 0.827 0.    0.    0.    0.   ]\n",
      " [0.    0.    0.    0.    0.284 0.943 0.    0.   ]\n",
      " [0.    0.    0.    0.    0.196 0.282 0.    0.   ]\n",
      " [0.    0.    0.    0.    0.108 0.045 0.    0.   ]\n",
      " [0.    0.    0.    0.    0.    0.    0.089 0.454]\n",
      " [0.    0.    0.    0.    0.    0.    0.216 0.798]\n",
      " [0.    0.    0.    0.    0.    0.    0.797 0.288]]\n"
     ]
    }
   ],
   "source": [
    "import numpy as np\n",
    "from scipy.linalg import block_diag\n",
    "\n",
    "def random_blocks(m, shape):\n",
    "    '''\n",
    "    Returns a list of m random matrices of size shape[0] x shape[1].\n",
    "    '''\n",
    "    #randomly generate a numpy array with a shpae (m*shape[0],shape[1])\n",
    "    mat = np.random.random([m * shape[0], shape[1]])\n",
    "    #split mat into m arraies, each with a size(shape[0],shape[1])\n",
    "    blocks = np.split(mat, m)\n",
    "    \n",
    "    return blocks\n",
    "\n",
    "#generate a list of 4 matrices with size(3,2) randomly\n",
    "blocks = random_blocks(4, (3, 2))\n",
    "#form a diagonal matrix by the above blocks\n",
    "A = block_diag(*blocks)\n",
    "\n",
    "print(np.round(A, 3))"
   ]
  },
  {
   "cell_type": "markdown",
   "id": "816fd970",
   "metadata": {},
   "source": [
    "We consider only block-diagonal matrices with $m$ blocks, where all diagonal blocks have the same shape $n \\times n$. A block-diagonal system $Ax = b$ can be written as\n",
    "\n",
    "$$\n",
    "\\begin{pmatrix}\n",
    "A_{1} & & & \\\\\n",
    "& A_{2} & & \\\\\n",
    "& & \\ddots & \\\\\n",
    "& & & A_{m}\n",
    "\\end{pmatrix}\n",
    "\\begin{pmatrix}\n",
    "x_1 \\\\ x_2 \\\\ \\vdots \\\\ x_m\n",
    "\\end{pmatrix}\n",
    "=\n",
    "\\begin{pmatrix}\n",
    "b_1 \\\\ b_2 \\\\ \\vdots \\\\ b_m\n",
    "\\end{pmatrix}\n",
    "\\qquad \\Leftrightarrow \\qquad\n",
    "\\begin{cases}\n",
    "A_{1} x_1 &= b_1 \\\\\n",
    "A_{2} x_2 &= b_2 \\\\\n",
    "&\\vdots \\\\\n",
    "A_{m} x_m &= b_m\n",
    "\\end{cases},\n",
    "$$\n",
    "\n",
    "where $A_i$ is the $i$th diagonal block of $A$, and $x_i$, $b_i$ are blocks of length $n$ of the vectors $x$ and $b$ respectively, for $i=1, 2, \\dots, m$. Note that when $m=1$, this is a diagonal system.\n",
    "\n",
    "We assume that all diagonal blocks $A_i$ are invertible, and therefore that the matrix $A$ is also invertible."
   ]
  },
  {
   "cell_type": "markdown",
   "id": "51a9edd2",
   "metadata": {},
   "source": [
    "New fuction `linsolve_block_diag(blocks, b)` which takes 2 input arguments:\n",
    "\n",
    "- `blocks`, a list of length $m$ storing a collection of $n \\times n$ NumPy arrays (e.g. as returned by `random_blocks()` from **2.1**) representing the blocks $A_i$,\n",
    "- a NumPy vector `b` of length $mn$.\n",
    "\n",
    "It would solve the block-diagonal system $Ax = b$, by solving **each sub-system $A_i x_i = b_i$ separately**, and return the solution as a NumPy vector `x` of length $mn$. \n"
   ]
  },
  {
   "cell_type": "code",
   "execution_count": 2,
   "id": "bb811106",
   "metadata": {},
   "outputs": [
    {
     "name": "stdout",
     "output_type": "stream",
     "text": [
      "block-diagonal system\n",
      "[[0.48523381 0.13823375 0.         0.        ]\n",
      " [0.80270589 0.50195154 0.         0.        ]\n",
      " [0.         0.         0.2780906  0.28207107]\n",
      " [0.         0.         0.69028146 0.14313473]]\n",
      "solution from linsolve_block_diag(blocks, b)\n",
      "[ 2.35989068 -2.9732936  -0.59707038  4.11414068]\n",
      "solution from np.linalg.solve(A,b)\n",
      "[ 2.35989068 -2.9732936  -0.59707038  4.11414068]\n"
     ]
    }
   ],
   "source": [
    "def linsolve_block_diag(blocks, b):\n",
    "    '''\n",
    "    Solves the block-diagonal system Ax=b,\n",
    "    where the diagonal blocks are listed in \"blocks\".\n",
    "    '''\n",
    "    sol=np.array([[]])\n",
    "    for i in range(len(blocks)):\n",
    "        block_i=np.array(blocks[i]) #find bloack_i\n",
    "        n,m=np.shape(block_i)\n",
    "        b_i=np.array(b[n*i:n*i+n]) #find b_i\n",
    "        sol=np.append(sol,np.linalg.solve(block_i, b_i)) # solve each A_i *x=b_i and append them back to a numpy vector\n",
    "    return sol\n",
    "\n",
    "\n",
    "#test a block diagonal system with two 2*2 blocks randomly generated from 2.1\n",
    "\n",
    "#generate a list of 2 matrices with size(2,2) randomly\n",
    "blocks = random_blocks(2, (2, 2))\n",
    "#form a diagonal matrix by the above blocks\n",
    "A = block_diag(*blocks)\n",
    "b=np.random.random(2*2)\n",
    "print(\"block-diagonal system\")\n",
    "print(A)\n",
    "print(\"solution from linsolve_block_diag(blocks, b)\")\n",
    "print(linsolve_block_diag(blocks, b))\n",
    "print(\"solution from np.linalg.solve(A,b)\")\n",
    "print(np.linalg.solve(A,b))"
   ]
  },
  {
   "cell_type": "markdown",
   "id": "3b38de8c",
   "metadata": {},
   "source": [
    "Compare the computation time needed to solve a block-diagonal system $Ax = b$ using 2 different methods:\n",
    "\n",
    "- solving the system by separation of the blocks linsolve_block_diag(blocks, b)\n",
    "- solving the full system with a general method np.linalg.solve(A,b)\n",
    "\n",
    "Consider block-diagonal systems with block sizes $n = 5, 10, 15, 20$, and a total number $m = 5, 10, 15, \\dots, 40$ of blocks. For each combination of $n$ and $m$:\n",
    "Compare the computation time needed for two different methods.\n"
   ]
  },
  {
   "cell_type": "code",
   "execution_count": 3,
   "id": "769be98f",
   "metadata": {},
   "outputs": [
    {
     "data": {
      "image/png": "[encoded data removed]",
      "text/plain": [
       "<Figure size 432x288 with 4 Axes>"
      ]
     },
     "metadata": {
      "needs_background": "light"
     },
     "output_type": "display_data"
    }
   ],
   "source": [
    "import time\n",
    "import matplotlib.pyplot as plt\n",
    "m=np.linspace(5,40,8)\n",
    "def time_compare(n):\n",
    "    \"\"\"compute the time used  for two methods with differnet input n\"\"\"\n",
    "    global t_a, t_b\n",
    "    t_a=np.array([]) # store computation time for linsolve_block_diag(blocks, b)\n",
    "    t_b=np.array([]) # store computation time for np.linalg.solve(A, b)\n",
    "    for i in range(len(m)):\n",
    "        #rabdomly generate the desired matrix \n",
    "        blocks = random_blocks(int(m[i]), (n, n))\n",
    "        A = block_diag(*blocks)\n",
    "        b=np.random.random(int(m[i])*n)\n",
    "        #computation time for linsolve_block_diag(blocks, b)\n",
    "        t_a0=time.time()\n",
    "        linsolve_block_diag(blocks, b)\n",
    "        t_a1=time.time()-t_a0\n",
    "        t_a=np.append(t_a,t_a1)\n",
    "        #computation time for np.linalg.solve(A, b)\n",
    "        t_b0=time.time()\n",
    "        np.linalg.solve(A, b)\n",
    "        t_b1=time.time()-t_b0\n",
    "        t_b=np.append(t_b,t_b1)\n",
    "    return t_a, t_b\n",
    "    \n",
    "\n",
    "fig, ax = plt.subplots(4,1)\n",
    "plt.subplots_adjust(hspace=0.9)\n",
    "hspace=2\n",
    "#the first graph n=5\n",
    "time_compare(5)\n",
    "ax[0].plot(5*m, t_a,'r',label=\"linsolve_block_diag(blocks, b)\")\n",
    "ax[0].plot(5*m, t_b,'g',label=\"np.linalg.solve(A,b)\")\n",
    "ax[0].set_title(\"computation time for the two methods n=5\")\n",
    "ax[0].set_ylabel(\"time\")\n",
    "ax[0].set_xlabel(\"total size mn*mn\")\n",
    "#the second graph n=10\n",
    "time_compare(10)\n",
    "ax[1].plot(10*m, t_a,'r',label=\"linsolve_block_diag(blocks, b)\")\n",
    "ax[1].plot(10*m, t_b,'g',label=\"np.linalg.solve(A,b)\")\n",
    "ax[1].set_title(\"computation time for the two methods n=10\")\n",
    "ax[1].set_ylabel(\"time\")\n",
    "ax[1].set_xlabel(\"total size mn*mn\")\n",
    "#the second graph n=15\n",
    "time_compare(15)\n",
    "ax[2].plot(15*m, t_a,'r',label=\"linsolve_block_diag(blocks, b)\")\n",
    "ax[2].plot(15*m, t_b,'g',label=\"np.linalg.solve(A,b)\")\n",
    "ax[2].set_title(\"computation time for the two methods n=15\")\n",
    "ax[2].set_ylabel(\"time\")\n",
    "ax[2].set_xlabel(\"total size mn*mn\")\n",
    "#the fourth graph n=20\n",
    "time_compare(20)\n",
    "ax[3].plot(20*m, t_a,'r',label=\"linsolve_block_diag(blocks, b)\")\n",
    "ax[3].plot(20*m, t_b,'g',label=\"np.linalg.solve(A,b)\")\n",
    "ax[3].set_title(\"computation time for the two methods n=20\")\n",
    "ax[3].set_ylabel(\"time\")\n",
    "ax[3].set_xlabel(\"total size mn*mn\")\n",
    "\n",
    "ax[0].legend(loc='upper left', fontsize=5)\n",
    "ax[1].legend(loc='upper left', fontsize=5)\n",
    "ax[2].legend(loc='upper left', fontsize=5)\n",
    "ax[3].legend(loc='upper left', fontsize=5)\n",
    "plt.show()"
   ]
  },
  {
   "cell_type": "code",
   "execution_count": null,
   "id": "e85831a6",
   "metadata": {},
   "outputs": [],
   "source": []
  }
 ],
 "metadata": {
  "kernelspec": {
   "display_name": "Python 3 (ipykernel)",
   "language": "python",
   "name": "python3"
  },
  "language_info": {
   "codemirror_mode": {
    "name": "ipython",
    "version": 3
   },
   "file_extension": ".py",
   "mimetype": "text/x-python",
   "name": "python",
   "nbconvert_exporter": "python",
   "pygments_lexer": "ipython3",
   "version": "3.9.7"
  },
  "varInspector": {
   "cols": {
    "lenName": 16,
    "lenType": 16,
    "lenVar": 40
   },
   "kernels_config": {
    "python": {
     "delete_cmd_postfix": "",
     "delete_cmd_prefix": "del ",
     "library": "var_list.py",
     "varRefreshCmd": "print(var_dic_list())"
    },
    "r": {
     "delete_cmd_postfix": ") ",
     "delete_cmd_prefix": "rm(",
     "library": "var_list.r",
     "varRefreshCmd": "cat(var_dic_list()) "
    }
   },
   "types_to_exclude": [
    "module",
    "function",
    "builtin_function_or_method",
    "instance",
    "_Feature"
   ],
   "window_display": false
  }
 },
 "nbformat": 4,
 "nbformat_minor": 5
}
